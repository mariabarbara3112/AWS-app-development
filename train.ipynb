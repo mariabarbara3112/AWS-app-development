{
 "cells": [
  {
   "cell_type": "code",
   "execution_count": 0,
   "metadata": {
    "collapsed": false
   },
   "outputs": [
   ],
   "source": [
    "session = sagemaker.Session() # Store the current SageMaker session\n",
    "prefix = 'sentiment-prediction-app'\n",
    "\n",
    "locTest = session.upload_data(os.path.join(dir, 'test.csv'), key_prefix=prefix)\n",
    "locV = session.upload_data(os.path.join(dir, 'validation.csv'), key_prefix=prefix)\n",
    "locTrain = session.upload_data(os.path.join(dir, 'train.csv'), key_prefix=prefix)\n",
    "\n",
    "from sagemaker import get_execution_role\n",
    "role = get_execution_role()\n",
    "\n",
    "#retrieve the location of the container (the training and inference code both use the same container)\n",
    "from sagemaker.amazon.amazon_estimator import get_image_uri\n",
    "container = get_image_uri(session.boto_region_name, 'xgboost')\n",
    "\n",
    "rtModel = sagemaker.estimator.Estimator(container, role, train_instance_count=1, train_instance_type='ml.m4.xlarge',      \n",
    "                                    output_path='s3://{}/{}/output'.format(session.default_bucket(), prefix),\n",
    "                                    sagemaker_session=session)\n",
    "\n",
    "# initialize with parameters:\n",
    "rtModel.set_hyperparameters(max_depth=5,\n",
    "                        eta=0.2,\n",
    "                        gamma=4,\n",
    "                        min_child_weight=6,\n",
    "                        subsample=0.8,\n",
    "                        silent=0,\n",
    "                        objective='binary:logistic',\n",
    "                        early_stopping_rounds=10,\n",
    "                        num_round=500)\n",
    "\n",
    "s3_input_train = sagemaker.s3_input(s3_data=locTrain, content_type='csv')\n",
    "s3_input_validation = sagemaker.s3_input(s3_data=locV, content_type='csv')\n",
    "\n",
    "rtModel.fit({'train': s3_input_train, 'validation': s3_input_validation})"
   ]
  }
 ],
 "metadata": {
  "kernelspec": {
   "display_name": "Python 3 (system-wide)",
   "language": "python",
   "metadata": {
    "cocalc": {
     "description": "Python 3 programming language",
     "priority": 100,
     "url": "https://www.python.org/"
    }
   },
   "name": "python3"
  },
  "language_info": {
   "codemirror_mode": {
    "name": "ipython",
    "version": 3
   },
   "file_extension": ".py",
   "mimetype": "text/x-python",
   "name": "python",
   "nbconvert_exporter": "python",
   "pygments_lexer": "ipython3",
   "version": "3.6.9"
  }
 },
 "nbformat": 4,
 "nbformat_minor": 4
}